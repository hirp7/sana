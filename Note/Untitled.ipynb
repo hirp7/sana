{
 "cells": [
  {
   "cell_type": "code",
   "execution_count": null,
   "id": "b0ea0901",
   "metadata": {},
   "outputs": [],
   "source": [
    "import numpy as np\n",
    "import scipy as sp\n",
    "from scipy.integrate import quad,cumtrapz\n",
    "import matplotlib.pyplot as plt\n",
    "\n",
    "\n",
    "def f_transform(fun,f,lim = None):\n",
    "    operator_e = lambda w,t:cos(w*t)\n",
    "    operator_o = lambda w,t:sin(w*t)\n",
    "    if lim == None:\n",
    "        even = integrate.quad(lambda t:fun(t)*operator_e(f,t),-np.inf,np.inf)[0]\n",
    "        odd = integrate.quad(lambda t:fun(t)*operator_o(f,t),-np.inf,np.inf)[0]\n",
    "    else:\n",
    "        even = integrate.quad(lambda t:fun(t)*operator_e(f,t),lim[0],lim[1])[0]\n",
    "        odd = integrate.quad(lambda t:fun(t)*operator_o(f,t),lim[0],lim[1])[0]        \n",
    "    #return 1/(sqrt(2*pi))*(even - 1j*odd)\n",
    "    return (even - 1j*odd)\n",
    "\n",
    "\n",
    "from scipy.fft import fft,fftshift,fftfreq\n",
    "\n"
   ]
  },
  {
   "cell_type": "code",
   "execution_count": null,
   "id": "fafe4d81",
   "metadata": {},
   "outputs": [],
   "source": [
    "x = np.linspace(-1,1,100)\n",
    "y = lambda t:1 if np.abs(t)<0.5 else 0\n",
    "plt.plot(x,[y(i) for i in x])\n"
   ]
  },
  {
   "cell_type": "code",
   "execution_count": null,
   "id": "7c31e528",
   "metadata": {},
   "outputs": [],
   "source": []
  },
  {
   "cell_type": "code",
   "execution_count": null,
   "id": "8195ae7e",
   "metadata": {},
   "outputs": [],
   "source": []
  }
 ],
 "metadata": {
  "kernelspec": {
   "display_name": "Python 3 (ipykernel)",
   "language": "python",
   "name": "python3"
  }
 },
 "nbformat": 4,
 "nbformat_minor": 5
}
